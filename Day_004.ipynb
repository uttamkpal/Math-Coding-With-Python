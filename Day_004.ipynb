{
 "cells": [
  {
   "cell_type": "code",
   "execution_count": 1,
   "id": "399ceb6f",
   "metadata": {},
   "outputs": [],
   "source": [
    "import sympy as sym\n",
    "from IPython.display import display, Math"
   ]
  },
  {
   "cell_type": "code",
   "execution_count": 8,
   "id": "daedb923",
   "metadata": {},
   "outputs": [
    {
     "name": "stdout",
     "output_type": "stream",
     "text": [
      "(x - 7)*(4*x + 5)\n",
      "4*x**2 - 23*x - 35\n"
     ]
    },
    {
     "data": {
      "text/latex": [
       "$\\displaystyle \\left(x - 7\\right) \\left(4 x + 5\\right)$"
      ],
      "text/plain": [
       "<IPython.core.display.Math object>"
      ]
     },
     "metadata": {},
     "output_type": "display_data"
    },
    {
     "data": {
      "text/latex": [
       "$\\displaystyle 4 x^{2} - 23 x - 35$"
      ],
      "text/plain": [
       "<IPython.core.display.Math object>"
      ]
     },
     "metadata": {},
     "output_type": "display_data"
    }
   ],
   "source": [
    "x = sym.symbols('x')\n",
    "\n",
    "term1 = 4*x + 5\n",
    "term2 = x -7\n",
    "print(term1 * term2)\n",
    "print(sym.expand(term1 * term2))\n",
    "\n",
    "display(Math( sym.latex(term1 * term2)))\n",
    "display(Math( sym.latex(sym.expand(term1 * term2))))"
   ]
  },
  {
   "cell_type": "code",
   "execution_count": 9,
   "id": "843e74b6",
   "metadata": {},
   "outputs": [
    {
     "data": {
      "text/plain": [
       "'4 x^{2} - 23 x - 35'"
      ]
     },
     "metadata": {},
     "output_type": "display_data"
    }
   ],
   "source": [
    "display( sym.latex(sym.expand(term1 * term2)))"
   ]
  },
  {
   "cell_type": "code",
   "execution_count": 10,
   "id": "58d4efbe",
   "metadata": {},
   "outputs": [
    {
     "name": "stdout",
     "output_type": "stream",
     "text": [
      "Variable   Type        Data/Info\n",
      "--------------------------------\n",
      "Math       type        <class 'IPython.core.display.Math'>\n",
      "display    function    <function display at 0x0000019ED5AD79A0>\n",
      "sym        module      <module 'sympy' from 'D:\\<...>ges\\\\sympy\\\\__init__.py'>\n",
      "term1      Add         4*x + 5\n",
      "term2      Add         x - 7\n",
      "x          Symbol      x\n"
     ]
    }
   ],
   "source": [
    "%whos"
   ]
  },
  {
   "cell_type": "code",
   "execution_count": 28,
   "id": "a2378c44",
   "metadata": {},
   "outputs": [
    {
     "name": "stdout",
     "output_type": "stream",
     "text": [
      "Equation = -x*y + 2*x - 4*y + 8\n",
      "when x = 0 and y = 0, f(x,y) = 8\n",
      "when x = 0 and y = 1, f(x,y) = 4\n",
      "when x = 0 and y = 2, f(x,y) = 0\n",
      "when x = 1 and y = 0, f(x,y) = 10\n",
      "when x = 1 and y = 1, f(x,y) = 5\n",
      "when x = 1 and y = 2, f(x,y) = 0\n",
      "when x = 2 and y = 0, f(x,y) = 12\n",
      "when x = 2 and y = 1, f(x,y) = 6\n",
      "when x = 2 and y = 2, f(x,y) = 0\n"
     ]
    }
   ],
   "source": [
    "y = sym.symbols('y')\n",
    "x = sym.symbols('x')\n",
    "\n",
    "f = (4 +x) * (2 -y)\n",
    "print(f\"Equation = {sym.expand(f)}\")\n",
    "\n",
    "list_vaue = [0,1,2]\n",
    "\n",
    "for xi in list_vaue:\n",
    "    for yi in list_vaue:\n",
    "        print(f'when x = {xi} and y = {yi}, f(x,y) = {f.subs({x:xi, y:yi})}')"
   ]
  },
  {
   "cell_type": "code",
   "execution_count": null,
   "id": "3c740c11",
   "metadata": {},
   "outputs": [],
   "source": []
  }
 ],
 "metadata": {
  "kernelspec": {
   "display_name": "Python 3 (ipykernel)",
   "language": "python",
   "name": "python3"
  },
  "language_info": {
   "codemirror_mode": {
    "name": "ipython",
    "version": 3
   },
   "file_extension": ".py",
   "mimetype": "text/x-python",
   "name": "python",
   "nbconvert_exporter": "python",
   "pygments_lexer": "ipython3",
   "version": "3.10.9"
  }
 },
 "nbformat": 4,
 "nbformat_minor": 5
}

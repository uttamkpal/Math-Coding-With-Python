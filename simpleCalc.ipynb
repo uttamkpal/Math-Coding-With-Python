{
 "cells": [
  {
   "cell_type": "code",
   "execution_count": 2,
   "id": "00e443c0",
   "metadata": {},
   "outputs": [],
   "source": [
    "from IPython.display import display, Math"
   ]
  },
  {
   "cell_type": "code",
   "execution_count": 3,
   "id": "237bf7ca",
   "metadata": {},
   "outputs": [],
   "source": [
    "def divided(x, y):\n",
    "    display(Math('\\\\frac{%g}{%g} = %g' %(x, y, x/y)))\n",
    "    \n",
    "def multiply(x, y):\n",
    "    display(Math('%g \\\\times%g = %g' %(x, y, x*y)))\n",
    "    \n",
    "\n",
    "def calculator():\n",
    "    x = float(input('Enter first number'))\n",
    "    y = float(input('Enter second number'))\n",
    "    \n",
    "    op = input('Enter Opatator like \"/\" or *')\n",
    "    op = op.strip()\n",
    "    \n",
    "    if op == '/':\n",
    "        divided(x, y)\n",
    "    elif op == '*':\n",
    "        multiply(x, y)\n",
    "    else:\n",
    "        print('Oparator is not valid')"
   ]
  },
  {
   "cell_type": "code",
   "execution_count": 4,
   "id": "1626c620",
   "metadata": {},
   "outputs": [
    {
     "name": "stdout",
     "output_type": "stream",
     "text": [
      "Enter first number23\n",
      "Enter second number45\n",
      "Enter Opatator like \"/\" or **\n"
     ]
    },
    {
     "data": {
      "text/latex": [
       "$\\displaystyle 23 \\times45 = 1035$"
      ],
      "text/plain": [
       "<IPython.core.display.Math object>"
      ]
     },
     "metadata": {},
     "output_type": "display_data"
    }
   ],
   "source": [
    "calculator()"
   ]
  },
  {
   "cell_type": "code",
   "execution_count": null,
   "id": "d558748c",
   "metadata": {},
   "outputs": [],
   "source": []
  }
 ],
 "metadata": {
  "kernelspec": {
   "display_name": "Python 3 (ipykernel)",
   "language": "python",
   "name": "python3"
  },
  "language_info": {
   "codemirror_mode": {
    "name": "ipython",
    "version": 3
   },
   "file_extension": ".py",
   "mimetype": "text/x-python",
   "name": "python",
   "nbconvert_exporter": "python",
   "pygments_lexer": "ipython3",
   "version": "3.10.9"
  }
 },
 "nbformat": 4,
 "nbformat_minor": 5
}

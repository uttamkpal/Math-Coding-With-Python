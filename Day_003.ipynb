{
 "cells": [
  {
   "cell_type": "code",
   "execution_count": 1,
   "id": "30dfaf32",
   "metadata": {},
   "outputs": [],
   "source": [
    "# Number and String\n",
    "\n",
    "import numpy as np"
   ]
  },
  {
   "cell_type": "code",
   "execution_count": 2,
   "id": "f641438b",
   "metadata": {},
   "outputs": [
    {
     "name": "stdout",
     "output_type": "stream",
     "text": [
      "<class 'int'>\n",
      "<class 'float'>\n",
      "<class 'str'>\n"
     ]
    }
   ],
   "source": [
    "print(type(2))\n",
    "print(type(3.33))\n",
    "print(type('uttam'))"
   ]
  },
  {
   "cell_type": "code",
   "execution_count": 3,
   "id": "28bd3e7f",
   "metadata": {},
   "outputs": [
    {
     "name": "stdout",
     "output_type": "stream",
     "text": [
      "<class 'range'>\n"
     ]
    }
   ],
   "source": [
    "print(type(range(1,10)))"
   ]
  },
  {
   "cell_type": "code",
   "execution_count": 4,
   "id": "d1386fa0",
   "metadata": {},
   "outputs": [
    {
     "ename": "TypeError",
     "evalue": "'float' object cannot be interpreted as an integer",
     "output_type": "error",
     "traceback": [
      "\u001b[1;31m---------------------------------------------------------------------------\u001b[0m",
      "\u001b[1;31mTypeError\u001b[0m                                 Traceback (most recent call last)",
      "Cell \u001b[1;32mIn[4], line 1\u001b[0m\n\u001b[1;32m----> 1\u001b[0m \u001b[38;5;28;01mfor\u001b[39;00m i \u001b[38;5;129;01min\u001b[39;00m \u001b[38;5;28;43mrange\u001b[39;49m\u001b[43m(\u001b[49m\u001b[38;5;241;43m10.11\u001b[39;49m\u001b[43m)\u001b[49m:\n\u001b[0;32m      2\u001b[0m     \u001b[38;5;28mprint\u001b[39m(i)\n",
      "\u001b[1;31mTypeError\u001b[0m: 'float' object cannot be interpreted as an integer"
     ]
    }
   ],
   "source": [
    "for i in range(10.11):\n",
    "    print(i)"
   ]
  },
  {
   "cell_type": "code",
   "execution_count": 5,
   "id": "8bdfefaa",
   "metadata": {},
   "outputs": [
    {
     "name": "stdout",
     "output_type": "stream",
     "text": [
      "0\n",
      "1\n",
      "2\n",
      "3\n",
      "4\n",
      "5\n",
      "6\n",
      "7\n",
      "8\n",
      "9\n"
     ]
    }
   ],
   "source": [
    "for i in range(10):\n",
    "    print(i)"
   ]
  },
  {
   "cell_type": "code",
   "execution_count": 6,
   "id": "a3bae61e",
   "metadata": {},
   "outputs": [],
   "source": [
    "name = \"Uttam\""
   ]
  },
  {
   "cell_type": "code",
   "execution_count": 10,
   "id": "b9d0aa59",
   "metadata": {},
   "outputs": [
    {
     "name": "stdout",
     "output_type": "stream",
     "text": [
      "Hello Uttam\n",
      "UttamUttamUttam\n"
     ]
    }
   ],
   "source": [
    "# + use for concatenation and * use for concatenate this multipule time\n",
    "print('Hello ' + name)\n",
    "print(3 * name)"
   ]
  },
  {
   "cell_type": "code",
   "execution_count": 9,
   "id": "2b1aa341",
   "metadata": {},
   "outputs": [
    {
     "name": "stdout",
     "output_type": "stream",
     "text": [
      "Variable   Type      Data/Info\n",
      "------------------------------\n",
      "i          int       9\n",
      "name       str       Uttam\n",
      "np         module    <module 'numpy' from 'D:\\<...>ges\\\\numpy\\\\__init__.py'>\n"
     ]
    }
   ],
   "source": [
    "%whos"
   ]
  },
  {
   "cell_type": "code",
   "execution_count": 15,
   "id": "7b23ef1a",
   "metadata": {},
   "outputs": [
    {
     "name": "stdout",
     "output_type": "stream",
     "text": [
      "4\n",
      "4\n",
      "4.0\n",
      "4.3\n",
      "5\n",
      "5.5555\n"
     ]
    }
   ],
   "source": [
    "# int() , float(), \n",
    "\n",
    "s1 = '4'\n",
    "s2 = '4.3'\n",
    "n1 = 5\n",
    "n2 = 5.5\n",
    "\n",
    "print(int(s1))\n",
    "print(int(float(s2)))\n",
    "\n",
    "print(float(s1))\n",
    "print(float(s2))\n",
    "\n",
    "print(str(n1))\n",
    "print(str(n2) + str(555))"
   ]
  },
  {
   "cell_type": "markdown",
   "id": "bae9058f",
   "metadata": {},
   "source": [
    "# List and Numpy Array"
   ]
  },
  {
   "cell_type": "code",
   "execution_count": 16,
   "id": "7561ea73",
   "metadata": {},
   "outputs": [
    {
     "name": "stdout",
     "output_type": "stream",
     "text": [
      "<class 'list'>\n",
      "[1, 2, ['3', '8', '9'], 4, 5, 6, 7]\n"
     ]
    }
   ],
   "source": [
    "alist = [1,2,3,4,5,6,7]\n",
    "print(type(alist))\n",
    "list_list = [1,2,['3','8','9'],4,5,6,7]\n",
    "print(list_list)"
   ]
  },
  {
   "cell_type": "code",
   "execution_count": 19,
   "id": "74ffa825",
   "metadata": {},
   "outputs": [
    {
     "name": "stdout",
     "output_type": "stream",
     "text": [
      "[1, 2, 3, 4, 5, 6, 7, '1', '2', '3', '4']\n",
      "[1, 2, 3, 4, 5, 6, 7, 1, 2, 3, 4, 5, 6, 7, 1, 2, 3, 4, 5, 6, 7]\n"
     ]
    }
   ],
   "source": [
    "slist = ['1', '2', '3', '4']\n",
    "print(alist + slist)\n",
    "print(alist * 3)"
   ]
  },
  {
   "cell_type": "code",
   "execution_count": 21,
   "id": "08a7a34c",
   "metadata": {},
   "outputs": [
    {
     "name": "stdout",
     "output_type": "stream",
     "text": [
      "<class 'numpy.ndarray'>\n",
      "[1, 2, 3, 4, 5, 6, 7]\n",
      "[1 2 3 4 5 6 7]\n"
     ]
    }
   ],
   "source": [
    "np_alist = np.array(alist)\n",
    "print(type(np_alist))\n",
    "print(alist)\n",
    "print(np_alist)"
   ]
  },
  {
   "cell_type": "code",
   "execution_count": 22,
   "id": "a730ee6a",
   "metadata": {},
   "outputs": [
    {
     "name": "stdout",
     "output_type": "stream",
     "text": [
      "[1 2 3 4 5 6 7]\n",
      "[ 4  8 12 16 20 24 28]\n"
     ]
    }
   ],
   "source": [
    "print(np_alist)\n",
    "print(np_alist * 4)"
   ]
  },
  {
   "cell_type": "code",
   "execution_count": 23,
   "id": "7a0bdd8a",
   "metadata": {},
   "outputs": [
    {
     "name": "stdout",
     "output_type": "stream",
     "text": [
      "[1 2 3 4 5 6 7]\n",
      "[ 5  6  7  8  9 10 11]\n"
     ]
    }
   ],
   "source": [
    "print(np_alist)\n",
    "print(np_alist + 4)"
   ]
  },
  {
   "cell_type": "markdown",
   "id": "f4607eb1",
   "metadata": {},
   "source": [
    "## for ind, item in enumerate(list_list):"
   ]
  },
  {
   "cell_type": "code",
   "execution_count": 25,
   "id": "7d10c5a0",
   "metadata": {},
   "outputs": [
    {
     "name": "stdout",
     "output_type": "stream",
     "text": [
      "index 0 and value 1 in list [1, 2, ['3', '8', '9'], 4, 5, 6, 7]\n",
      "index 1 and value 2 in list [1, 2, ['3', '8', '9'], 4, 5, 6, 7]\n",
      "index 2 and value ['3', '8', '9'] in list [1, 2, ['3', '8', '9'], 4, 5, 6, 7]\n",
      "index 3 and value 4 in list [1, 2, ['3', '8', '9'], 4, 5, 6, 7]\n",
      "index 4 and value 5 in list [1, 2, ['3', '8', '9'], 4, 5, 6, 7]\n",
      "index 5 and value 6 in list [1, 2, ['3', '8', '9'], 4, 5, 6, 7]\n",
      "index 6 and value 7 in list [1, 2, ['3', '8', '9'], 4, 5, 6, 7]\n"
     ]
    }
   ],
   "source": [
    "for ind, item in enumerate(list_list):\n",
    "    print(f'index {ind} and value {item} in list {list_list}')"
   ]
  },
  {
   "cell_type": "code",
   "execution_count": 31,
   "id": "0260ae96",
   "metadata": {},
   "outputs": [],
   "source": [
    "import sympy as sym\n",
    "import handcalcs.render"
   ]
  },
  {
   "cell_type": "code",
   "execution_count": 32,
   "id": "be03cf55",
   "metadata": {},
   "outputs": [
    {
     "name": "stdout",
     "output_type": "stream",
     "text": [
      "[5/2]\n"
     ]
    }
   ],
   "source": [
    "x = sym.symbols('x')\n",
    "y = sym.symbols('y')\n",
    "\n",
    "# 2x+4 = 9\n",
    "expr = 2 * x + 4 -9\n",
    "\n",
    "solution = sym.solve(expr)\n",
    "print(solution)"
   ]
  },
  {
   "cell_type": "code",
   "execution_count": 38,
   "id": "08585834",
   "metadata": {},
   "outputs": [
    {
     "name": "stdout",
     "output_type": "stream",
     "text": [
      "[Piecewise((-2**(1/3)*sqrt(-(-1)**(1/3))/4 + sqrt((-1)**(1/3)*2**(2/3)/4 + 2**(2/3)/(2*sqrt(-(-1)**(1/3))))/2, Eq(y, 0)), (-sqrt(31*y/(9*(sqrt(1/65536 - 29791*y**3/5832) + 1/256)**(1/3)) + 2*(sqrt(1/65536 - 29791*y**3/5832) + 1/256)**(1/3))/2 + sqrt(-31*y/(9*(sqrt(1/65536 - 29791*y**3/5832) + 1/256)**(1/3)) - 2*(sqrt(1/65536 - 29791*y**3/5832) + 1/256)**(1/3) + 1/(2*sqrt(31*y/(9*(sqrt(1/65536 - 29791*y**3/5832) + 1/256)**(1/3)) + 2*(sqrt(1/65536 - 29791*y**3/5832) + 1/256)**(1/3))))/2, True)), Piecewise((2**(1/3)*sqrt(-(-1)**(1/3))/4 - sqrt(-2**(2/3)/(2*sqrt(-(-1)**(1/3))) + (-1)**(1/3)*2**(2/3)/4)/2, Eq(y, 0)), (sqrt(31*y/(9*(sqrt(1/65536 - 29791*y**3/5832) + 1/256)**(1/3)) + 2*(sqrt(1/65536 - 29791*y**3/5832) + 1/256)**(1/3))/2 - sqrt(-31*y/(9*(sqrt(1/65536 - 29791*y**3/5832) + 1/256)**(1/3)) - 2*(sqrt(1/65536 - 29791*y**3/5832) + 1/256)**(1/3) - 1/(2*sqrt(31*y/(9*(sqrt(1/65536 - 29791*y**3/5832) + 1/256)**(1/3)) + 2*(sqrt(1/65536 - 29791*y**3/5832) + 1/256)**(1/3))))/2, True)), Piecewise((-sqrt((-1)**(1/3)*2**(2/3)/4 + 2**(2/3)/(2*sqrt(-(-1)**(1/3))))/2 - 2**(1/3)*sqrt(-(-1)**(1/3))/4, Eq(y, 0)), (-sqrt(31*y/(9*(sqrt(1/65536 - 29791*y**3/5832) + 1/256)**(1/3)) + 2*(sqrt(1/65536 - 29791*y**3/5832) + 1/256)**(1/3))/2 - sqrt(-31*y/(9*(sqrt(1/65536 - 29791*y**3/5832) + 1/256)**(1/3)) - 2*(sqrt(1/65536 - 29791*y**3/5832) + 1/256)**(1/3) + 1/(2*sqrt(31*y/(9*(sqrt(1/65536 - 29791*y**3/5832) + 1/256)**(1/3)) + 2*(sqrt(1/65536 - 29791*y**3/5832) + 1/256)**(1/3))))/2, True)), Piecewise((sqrt(-2**(2/3)/(2*sqrt(-(-1)**(1/3))) + (-1)**(1/3)*2**(2/3)/4)/2 + 2**(1/3)*sqrt(-(-1)**(1/3))/4, Eq(y, 0)), (sqrt(31*y/(9*(sqrt(1/65536 - 29791*y**3/5832) + 1/256)**(1/3)) + 2*(sqrt(1/65536 - 29791*y**3/5832) + 1/256)**(1/3))/2 + sqrt(-31*y/(9*(sqrt(1/65536 - 29791*y**3/5832) + 1/256)**(1/3)) - 2*(sqrt(1/65536 - 29791*y**3/5832) + 1/256)**(1/3) - 1/(2*sqrt(31*y/(9*(sqrt(1/65536 - 29791*y**3/5832) + 1/256)**(1/3)) + 2*(sqrt(1/65536 - 29791*y**3/5832) + 1/256)**(1/3))))/2, True))]\n"
     ]
    }
   ],
   "source": [
    "expr = x/4 + y/6 + x**4 + 5*y\n",
    "solution = sym.solve(expr, x)\n",
    "print(solution)\n",
    "\n",
    "# solution = sym.solve(expr, y)\n",
    "# print(solution)"
   ]
  },
  {
   "cell_type": "code",
   "execution_count": 39,
   "id": "6c2e481c",
   "metadata": {},
   "outputs": [
    {
     "data": {
      "text/latex": [
       "\\[\n",
       "\\begin{aligned}\n",
       "\\mathrm{solution} &= [\\begin{cases} - \\frac{\\sqrt[3]{2} \\sqrt{- \\sqrt[3]{-1}}}{4} + \\frac{\\sqrt{\\frac{\\sqrt[3]{-1} \\cdot 2^{\\frac{2}{3}}}{4} + \\frac{2^{\\frac{2}{3}}}{2 \\sqrt{- \\sqrt[3]{-1}}}}}{2} & \\text{for}\\: y &= 0 \\\\- \\frac{\\sqrt{\\frac{31 y}{9 \\sqrt[3]{\\sqrt{\\frac{1}{65536} - \\frac{29791 y^{3}}{5832}} + \\frac{1}{256}}} + 2 \\sqrt[3]{\\sqrt{\\frac{1}{65536} - \\frac{29791 y^{3}}{5832}} + \\frac{1}{256}}}}{2} + \\frac{\\sqrt{- \\frac{31 y}{9 \\sqrt[3]{\\sqrt{\\frac{1}{65536} - \\frac{29791 y^{3}}{5832}} + \\frac{1}{256}}} - 2 \\sqrt[3]{\\sqrt{\\frac{1}{65536} - \\frac{29791 y^{3}}{5832}} + \\frac{1}{256}} + \\frac{1}{2 \\sqrt{\\frac{31 y}{9 \\sqrt[3]{\\sqrt{\\frac{1}{65536} - \\frac{29791 y^{3}}{5832}} + \\frac{1}{256}}} + 2 \\sqrt[3]{\\sqrt{\\frac{1}{65536} - \\frac{29791 y^{3}}{5832}} + \\frac{1}{256}}}}}}{2} & \\text{otherwise} \\end{cases},\\ \\begin{cases} \\frac{\\sqrt[3]{2} \\sqrt{- \\sqrt[3]{-1}}}{4} - \\frac{\\sqrt{- \\frac{2^{\\frac{2}{3}}}{2 \\sqrt{- \\sqrt[3]{-1}}} + \\frac{\\sqrt[3]{-1} \\cdot 2^{\\frac{2}{3}}}{4}}}{2} & \\text{for}\\: y &= 0 \\\\\\frac{\\sqrt{\\frac{31 y}{9 \\sqrt[3]{\\sqrt{\\frac{1}{65536} - \\frac{29791 y^{3}}{5832}} + \\frac{1}{256}}} + 2 \\sqrt[3]{\\sqrt{\\frac{1}{65536} - \\frac{29791 y^{3}}{5832}} + \\frac{1}{256}}}}{2} - \\frac{\\sqrt{- \\frac{31 y}{9 \\sqrt[3]{\\sqrt{\\frac{1}{65536} - \\frac{29791 y^{3}}{5832}} + \\frac{1}{256}}} - 2 \\sqrt[3]{\\sqrt{\\frac{1}{65536} - \\frac{29791 y^{3}}{5832}} + \\frac{1}{256}} - \\frac{1}{2 \\sqrt{\\frac{31 y}{9 \\sqrt[3]{\\sqrt{\\frac{1}{65536} - \\frac{29791 y^{3}}{5832}} + \\frac{1}{256}}} + 2 \\sqrt[3]{\\sqrt{\\frac{1}{65536} - \\frac{29791 y^{3}}{5832}} + \\frac{1}{256}}}}}}{2} & \\text{otherwise} \\end{cases},\\ \\begin{cases} - \\frac{\\sqrt{\\frac{\\sqrt[3]{-1} \\cdot 2^{\\frac{2}{3}}}{4} + \\frac{2^{\\frac{2}{3}}}{2 \\sqrt{- \\sqrt[3]{-1}}}}}{2} - \\frac{\\sqrt[3]{2} \\sqrt{- \\sqrt[3]{-1}}}{4} & \\text{for}\\: y &= 0 \\\\- \\frac{\\sqrt{\\frac{31 y}{9 \\sqrt[3]{\\sqrt{\\frac{1}{65536} - \\frac{29791 y^{3}}{5832}} + \\frac{1}{256}}} + 2 \\sqrt[3]{\\sqrt{\\frac{1}{65536} - \\frac{29791 y^{3}}{5832}} + \\frac{1}{256}}}}{2} - \\frac{\\sqrt{- \\frac{31 y}{9 \\sqrt[3]{\\sqrt{\\frac{1}{65536} - \\frac{29791 y^{3}}{5832}} + \\frac{1}{256}}} - 2 \\sqrt[3]{\\sqrt{\\frac{1}{65536} - \\frac{29791 y^{3}}{5832}} + \\frac{1}{256}} + \\frac{1}{2 \\sqrt{\\frac{31 y}{9 \\sqrt[3]{\\sqrt{\\frac{1}{65536} - \\frac{29791 y^{3}}{5832}} + \\frac{1}{256}}} + 2 \\sqrt[3]{\\sqrt{\\frac{1}{65536} - \\frac{29791 y^{3}}{5832}} + \\frac{1}{256}}}}}}{2} & \\text{otherwise} \\end{cases},\\ \\begin{cases} \\frac{\\sqrt{- \\frac{2^{\\frac{2}{3}}}{2 \\sqrt{- \\sqrt[3]{-1}}} + \\frac{\\sqrt[3]{-1} \\cdot 2^{\\frac{2}{3}}}{4}}}{2} + \\frac{\\sqrt[3]{2} \\sqrt{- \\sqrt[3]{-1}}}{4} & \\text{for}\\: y &= 0 \\\\\\frac{\\sqrt{\\frac{31 y}{9 \\sqrt[3]{\\sqrt{\\frac{1}{65536} - \\frac{29791 y^{3}}{5832}} + \\frac{1}{256}}} + 2 \\sqrt[3]{\\sqrt{\\frac{1}{65536} - \\frac{29791 y^{3}}{5832}} + \\frac{1}{256}}}}{2} + \\frac{\\sqrt{- \\frac{31 y}{9 \\sqrt[3]{\\sqrt{\\frac{1}{65536} - \\frac{29791 y^{3}}{5832}} + \\frac{1}{256}}} - 2 \\sqrt[3]{\\sqrt{\\frac{1}{65536} - \\frac{29791 y^{3}}{5832}} + \\frac{1}{256}} - \\frac{1}{2 \\sqrt{\\frac{31 y}{9 \\sqrt[3]{\\sqrt{\\frac{1}{65536} - \\frac{29791 y^{3}}{5832}} + \\frac{1}{256}}} + 2 \\sqrt[3]{\\sqrt{\\frac{1}{65536} - \\frac{29791 y^{3}}{5832}} + \\frac{1}{256}}}}}}{2} & \\text{otherwise} \\end{cases}] \\; \n",
       "\\end{aligned}\n",
       "\\]"
      ],
      "text/plain": [
       "<IPython.core.display.Latex object>"
      ]
     },
     "metadata": {},
     "output_type": "display_data"
    }
   ],
   "source": [
    "%%render\n",
    "solution"
   ]
  },
  {
   "cell_type": "code",
   "execution_count": 44,
   "id": "fa57a62b",
   "metadata": {},
   "outputs": [
    {
     "name": "stdout",
     "output_type": "stream",
     "text": [
      "[3*x*(-4*x**3 - 1)/62]\n"
     ]
    }
   ],
   "source": [
    "solution = sym.solve(expr, y)\n",
    "print(solution)"
   ]
  },
  {
   "cell_type": "code",
   "execution_count": 45,
   "id": "de281d0b",
   "metadata": {},
   "outputs": [
    {
     "data": {
      "text/latex": [
       "\\[\n",
       "\\begin{aligned}\n",
       "\\mathrm{solution} &= [\\frac{3 x \\left(- 4 x^{3} - 1\\right)}{62}] \\; \n",
       "\\end{aligned}\n",
       "\\]"
      ],
      "text/plain": [
       "<IPython.core.display.Latex object>"
      ]
     },
     "metadata": {},
     "output_type": "display_data"
    }
   ],
   "source": [
    "%%render\n",
    "solution"
   ]
  },
  {
   "cell_type": "code",
   "execution_count": 47,
   "id": "e38c082d",
   "metadata": {},
   "outputs": [
    {
     "name": "stdout",
     "output_type": "stream",
     "text": [
      "[{y: 3*x*(-4*x**3 - 1)/62}]\n"
     ]
    }
   ],
   "source": [
    "solution = sym.solve(expr)\n",
    "print(solution)"
   ]
  },
  {
   "cell_type": "code",
   "execution_count": 50,
   "id": "7060a02d",
   "metadata": {},
   "outputs": [],
   "source": [
    "from IPython.display import display, Math"
   ]
  },
  {
   "cell_type": "code",
   "execution_count": 55,
   "id": "94cd8e19",
   "metadata": {},
   "outputs": [
    {
     "data": {
      "text/latex": [
       "$\\displaystyle \\frac{- 2 q^{2} + 2 q + 3}{q}$"
      ],
      "text/plain": [
       "<IPython.core.display.Math object>"
      ]
     },
     "metadata": {},
     "output_type": "display_data"
    },
    {
     "data": {
      "text/latex": [
       "$\\displaystyle - 2 q + 2 + \\frac{3}{q}$"
      ],
      "text/plain": [
       "<IPython.core.display.Math object>"
      ]
     },
     "metadata": {},
     "output_type": "display_data"
    },
    {
     "data": {
      "text/latex": [
       "$\\displaystyle q = \\left[ \\frac{1}{2} - \\frac{\\sqrt{7}}{2}, \\  \\frac{1}{2} + \\frac{\\sqrt{7}}{2}\\right]$"
      ],
      "text/plain": [
       "<IPython.core.display.Math object>"
      ]
     },
     "metadata": {},
     "output_type": "display_data"
    }
   ],
   "source": [
    "q = sym.symbols('q')\n",
    "\n",
    "eq = 3*q + 4/q + 3 -(5*q + 1/q +1)\n",
    "display(Math(sym.latex(sym.cancel(eq))))\n",
    "display(Math(sym.latex(eq.simplify())))\n",
    "\n",
    "display(Math(\"q = \" + sym.latex(sym.solve(eq))))"
   ]
  },
  {
   "cell_type": "code",
   "execution_count": 62,
   "id": "c4b2da8c",
   "metadata": {},
   "outputs": [],
   "source": [
    "eq2 = expr.subs(y, 10)"
   ]
  },
  {
   "cell_type": "code",
   "execution_count": 63,
   "id": "f44aab11",
   "metadata": {},
   "outputs": [
    {
     "data": {
      "text/latex": [
       "$\\displaystyle x^{4} + 0.25 x + 51.6666666666667$"
      ],
      "text/plain": [
       "x**4 + 0.25*x + 51.6666666666667"
      ]
     },
     "execution_count": 63,
     "metadata": {},
     "output_type": "execute_result"
    }
   ],
   "source": [
    "expr.subs(y, 10).evalf()"
   ]
  },
  {
   "cell_type": "code",
   "execution_count": 68,
   "id": "cdcd6f9e",
   "metadata": {},
   "outputs": [
    {
     "name": "stdout",
     "output_type": "stream",
     "text": [
      "[-sqrt(310/(9*(1/256 + sqrt(244047871271)*I/6912)**(1/3)) + 2*(1/256 + sqrt(244047871271)*I/6912)**(1/3))/2 - sqrt(-2*(1/256 + sqrt(244047871271)*I/6912)**(1/3) + 1/(2*sqrt(310/(9*(1/256 + sqrt(244047871271)*I/6912)**(1/3)) + 2*(1/256 + sqrt(244047871271)*I/6912)**(1/3))) - 310/(9*(1/256 + sqrt(244047871271)*I/6912)**(1/3)))/2, sqrt(310/(9*(1/256 + sqrt(244047871271)*I/6912)**(1/3)) + 2*(1/256 + sqrt(244047871271)*I/6912)**(1/3))/2 - sqrt(-2*(1/256 + sqrt(244047871271)*I/6912)**(1/3) - 1/(2*sqrt(310/(9*(1/256 + sqrt(244047871271)*I/6912)**(1/3)) + 2*(1/256 + sqrt(244047871271)*I/6912)**(1/3))) - 310/(9*(1/256 + sqrt(244047871271)*I/6912)**(1/3)))/2, sqrt(-2*(1/256 + sqrt(244047871271)*I/6912)**(1/3) - 1/(2*sqrt(310/(9*(1/256 + sqrt(244047871271)*I/6912)**(1/3)) + 2*(1/256 + sqrt(244047871271)*I/6912)**(1/3))) - 310/(9*(1/256 + sqrt(244047871271)*I/6912)**(1/3)))/2 + sqrt(310/(9*(1/256 + sqrt(244047871271)*I/6912)**(1/3)) + 2*(1/256 + sqrt(244047871271)*I/6912)**(1/3))/2, sqrt(-2*(1/256 + sqrt(244047871271)*I/6912)**(1/3) + 1/(2*sqrt(310/(9*(1/256 + sqrt(244047871271)*I/6912)**(1/3)) + 2*(1/256 + sqrt(244047871271)*I/6912)**(1/3))) - 310/(9*(1/256 + sqrt(244047871271)*I/6912)**(1/3)))/2 - sqrt(310/(9*(1/256 + sqrt(244047871271)*I/6912)**(1/3)) + 2*(1/256 + sqrt(244047871271)*I/6912)**(1/3))/2]\n"
     ]
    }
   ],
   "source": [
    "solution = sym.solve(eq2)\n",
    "print(solution)"
   ]
  },
  {
   "cell_type": "code",
   "execution_count": null,
   "id": "355d4877",
   "metadata": {},
   "outputs": [],
   "source": []
  }
 ],
 "metadata": {
  "kernelspec": {
   "display_name": "Python 3 (ipykernel)",
   "language": "python",
   "name": "python3"
  },
  "language_info": {
   "codemirror_mode": {
    "name": "ipython",
    "version": 3
   },
   "file_extension": ".py",
   "mimetype": "text/x-python",
   "name": "python",
   "nbconvert_exporter": "python",
   "pygments_lexer": "ipython3",
   "version": "3.10.9"
  }
 },
 "nbformat": 4,
 "nbformat_minor": 5
}

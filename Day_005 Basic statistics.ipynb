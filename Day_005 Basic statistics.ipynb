{
 "cells": [
  {
   "cell_type": "code",
   "execution_count": 3,
   "id": "af607ba7",
   "metadata": {},
   "outputs": [],
   "source": [
    "import numpy as np\n",
    "import math\n",
    "import statistics\n",
    "import matplotlib.pyplot\n",
    "import scipy.stats as sps\n",
    "import pandas as pd"
   ]
  },
  {
   "cell_type": "code",
   "execution_count": 4,
   "id": "33f8530e",
   "metadata": {},
   "outputs": [
    {
     "name": "stdout",
     "output_type": "stream",
     "text": [
      "[  1   8  15  22  29  36  43  50  57  64  71  78  85  92  99 106 113 120\n",
      " 127 134 141 148 155 162 169 176 183 190 197 204 211 218 225 232 239 246\n",
      " 253 260 267 274 281 288 295 302 309 316 323 330 337 344 351 358 365 372\n",
      " 379 386 393 400 407 414 421 428 435 442 449 456 463 470 477 484 491 498\n",
      " 505 512 519 526 533 540 547 554 561 568 575 582 589 596 603 610 617 624\n",
      " 631 638 645 652 659 666 673 680 687 694 701 708 715 722 729 736 743 750\n",
      " 757 764 771 778 785 792 799 806 813 820 827 834 841 848 855 862 869 876\n",
      " 883 890 897 904 911 918 925 932 939 946 953 960 967 974 981 988 995]\n"
     ]
    }
   ],
   "source": [
    "dataset = np.arange(1, 1000, 7)\n",
    "print(dataset)"
   ]
  },
  {
   "cell_type": "code",
   "execution_count": 5,
   "id": "cbbf9581",
   "metadata": {},
   "outputs": [
    {
     "name": "stdout",
     "output_type": "stream",
     "text": [
      "498.0\n"
     ]
    }
   ],
   "source": [
    "mean = np.mean(dataset)\n",
    "print(mean)"
   ]
  },
  {
   "cell_type": "code",
   "execution_count": 7,
   "id": "7e544679",
   "metadata": {},
   "outputs": [
    {
     "name": "stdout",
     "output_type": "stream",
     "text": [
      "498.0\n"
     ]
    }
   ],
   "source": [
    "median = np.median(dataset)\n",
    "print(median)"
   ]
  },
  {
   "cell_type": "code",
   "execution_count": 8,
   "id": "bbd8db57",
   "metadata": {},
   "outputs": [
    {
     "data": {
      "text/plain": [
       "498.0"
      ]
     },
     "execution_count": 8,
     "metadata": {},
     "output_type": "execute_result"
    }
   ],
   "source": [
    "dataset.mean()"
   ]
  },
  {
   "cell_type": "code",
   "execution_count": 11,
   "id": "2525ce9c",
   "metadata": {},
   "outputs": [
    {
     "data": {
      "text/plain": [
       "143"
      ]
     },
     "execution_count": 11,
     "metadata": {},
     "output_type": "execute_result"
    }
   ],
   "source": [
    "len(dataset)"
   ]
  },
  {
   "cell_type": "code",
   "execution_count": 27,
   "id": "526681a6",
   "metadata": {},
   "outputs": [
    {
     "name": "stdout",
     "output_type": "stream",
     "text": [
      "[1.00000000e-18 9.15492958e-05 1.83098592e-04 2.74647887e-04\n",
      " 3.66197183e-04 4.57746479e-04 5.49295775e-04 6.40845070e-04\n",
      " 7.32394366e-04 8.23943662e-04 9.15492958e-04 1.00704225e-03\n",
      " 1.09859155e-03 1.19014085e-03 1.28169014e-03 1.37323944e-03\n",
      " 1.46478873e-03 1.55633803e-03 1.64788732e-03 1.73943662e-03\n",
      " 1.83098592e-03 1.92253521e-03 2.01408451e-03 2.10563380e-03\n",
      " 2.19718310e-03 2.28873239e-03 2.38028169e-03 2.47183099e-03\n",
      " 2.56338028e-03 2.65492958e-03 2.74647887e-03 2.83802817e-03\n",
      " 2.92957746e-03 3.02112676e-03 3.11267606e-03 3.20422535e-03\n",
      " 3.29577465e-03 3.38732394e-03 3.47887324e-03 3.57042254e-03\n",
      " 3.66197183e-03 3.75352113e-03 3.84507042e-03 3.93661972e-03\n",
      " 4.02816901e-03 4.11971831e-03 4.21126761e-03 4.30281690e-03\n",
      " 4.39436620e-03 4.48591549e-03 4.57746479e-03 4.66901408e-03\n",
      " 4.76056338e-03 4.85211268e-03 4.94366197e-03 5.03521127e-03\n",
      " 5.12676056e-03 5.21830986e-03 5.30985915e-03 5.40140845e-03\n",
      " 5.49295775e-03 5.58450704e-03 5.67605634e-03 5.76760563e-03\n",
      " 5.85915493e-03 5.95070423e-03 6.04225352e-03 6.13380282e-03\n",
      " 6.22535211e-03 6.31690141e-03 6.40845070e-03 6.50000000e-03\n",
      " 6.59154930e-03 6.68309859e-03 6.77464789e-03 6.86619718e-03\n",
      " 6.95774648e-03 7.04929577e-03 7.14084507e-03 7.23239437e-03\n",
      " 7.32394366e-03 7.41549296e-03 7.50704225e-03 7.59859155e-03\n",
      " 7.69014085e-03 7.78169014e-03 7.87323944e-03 7.96478873e-03\n",
      " 8.05633803e-03 8.14788732e-03 8.23943662e-03 8.33098592e-03\n",
      " 8.42253521e-03 8.51408451e-03 8.60563380e-03 8.69718310e-03\n",
      " 8.78873239e-03 8.88028169e-03 8.97183099e-03 9.06338028e-03\n",
      " 9.15492958e-03 9.24647887e-03 9.33802817e-03 9.42957746e-03\n",
      " 9.52112676e-03 9.61267606e-03 9.70422535e-03 9.79577465e-03\n",
      " 9.88732394e-03 9.97887324e-03 1.00704225e-02 1.01619718e-02\n",
      " 1.02535211e-02 1.03450704e-02 1.04366197e-02 1.05281690e-02\n",
      " 1.06197183e-02 1.07112676e-02 1.08028169e-02 1.08943662e-02\n",
      " 1.09859155e-02 1.10774648e-02 1.11690141e-02 1.12605634e-02\n",
      " 1.13521127e-02 1.14436620e-02 1.15352113e-02 1.16267606e-02\n",
      " 1.17183099e-02 1.18098592e-02 1.19014085e-02 1.19929577e-02\n",
      " 1.20845070e-02 1.21760563e-02 1.22676056e-02 1.23591549e-02\n",
      " 1.24507042e-02 1.25422535e-02 1.26338028e-02 1.27253521e-02\n",
      " 1.28169014e-02 1.29084507e-02 8.35000000e-02]\n"
     ]
    },
    {
     "data": {
      "text/plain": [
       "0.08350000000000013"
      ]
     },
     "execution_count": 27,
     "metadata": {},
     "output_type": "execute_result"
    }
   ],
   "source": [
    "weighted = np.linspace(0.000000000000000001, .013, 143)\n",
    "# print(weighted)\n",
    "last_item = 1 - (np.sum(weighted)- weighted[-1])\n",
    "weighted[-1] = last_item\n",
    "\n",
    "print(weighted)\n",
    "weighted[-1]"
   ]
  },
  {
   "cell_type": "code",
   "execution_count": 30,
   "id": "8fcb1805",
   "metadata": {},
   "outputs": [
    {
     "name": "stdout",
     "output_type": "stream",
     "text": [
      "689.1945000000002\n"
     ]
    }
   ],
   "source": [
    "wm = sum(x_ * w_ for (x_, w_) in zip(dataset, weighted))/ sum(weighted)\n",
    "print(wm)"
   ]
  },
  {
   "cell_type": "code",
   "execution_count": 31,
   "id": "b27a97b6",
   "metadata": {},
   "outputs": [
    {
     "name": "stdout",
     "output_type": "stream",
     "text": [
      "689.1945000000001\n"
     ]
    }
   ],
   "source": [
    "wm = np.average(dataset, weights = weighted)\n",
    "print(wm)"
   ]
  },
  {
   "cell_type": "code",
   "execution_count": 33,
   "id": "d9b77583",
   "metadata": {},
   "outputs": [
    {
     "name": "stdout",
     "output_type": "stream",
     "text": [
      "81.22147824847323\n"
     ]
    }
   ],
   "source": [
    "Hermonic_mean = statistics.harmonic_mean(dataset)\n",
    "print(Hermonic_mean)"
   ]
  },
  {
   "cell_type": "code",
   "execution_count": 37,
   "id": "c03f7798",
   "metadata": {},
   "outputs": [
    {
     "name": "stdout",
     "output_type": "stream",
     "text": [
      "498\n",
      "491\n",
      "498\n"
     ]
    }
   ],
   "source": [
    "n = len(dataset)\n",
    "dataset = sorted(dataset)\n",
    "if n%2: \n",
    "    median = dataset[n//2]\n",
    "else:\n",
    "    median = .5 * ( dataset[n//2 - 1]+ dataset[n//2])\n",
    "    \n",
    "print(median)\n",
    "\n",
    "print(statistics.median_low(dataset[ : -1]))\n",
    "print(statistics.median_high(dataset[ : -1]))"
   ]
  },
  {
   "cell_type": "code",
   "execution_count": 38,
   "id": "1e1a3e8d",
   "metadata": {},
   "outputs": [
    {
     "name": "stdout",
     "output_type": "stream",
     "text": [
      "[1, 8, 15, 22, 29, 36, 43, 50, 57, 64, 71, 78, 85, 92, 99, 106, 113, 120, 127, 134, 141, 148, 155, 162, 169, 176, 183, 190, 197, 204, 211, 218, 225, 232, 239, 246, 253, 260, 267, 274, 281, 288, 295, 302, 309, 316, 323, 330, 337, 344, 351, 358, 365, 372, 379, 386, 393, 400, 407, 414, 421, 428, 435, 442, 449, 456, 463, 470, 477, 484, 491, 498, 505, 512, 519, 526, 533, 540, 547, 554, 561, 568, 575, 582, 589, 596, 603, 610, 617, 624, 631, 638, 645, 652, 659, 666, 673, 680, 687, 694, 701, 708, 715, 722, 729, 736, 743, 750, 757, 764, 771, 778, 785, 792, 799, 806, 813, 820, 827, 834, 841, 848, 855, 862, 869, 876, 883, 890, 897, 904, 911, 918, 925, 932, 939, 946, 953, 960, 967, 974, 981, 988, 995]\n"
     ]
    }
   ],
   "source": [
    "print(statistics.multimode(dataset))"
   ]
  },
  {
   "cell_type": "code",
   "execution_count": 40,
   "id": "beba612d",
   "metadata": {},
   "outputs": [
    {
     "name": "stdout",
     "output_type": "stream",
     "text": [
      "[1, 2, 4]\n"
     ]
    }
   ],
   "source": [
    "x = [1,2,3,4,1,2,5,6,7,4,]\n",
    "print(statistics.multimode(x))"
   ]
  },
  {
   "cell_type": "code",
   "execution_count": 41,
   "id": "a69b1deb",
   "metadata": {},
   "outputs": [
    {
     "name": "stdout",
     "output_type": "stream",
     "text": [
      "1\n"
     ]
    }
   ],
   "source": [
    "x = [1,2,3,4,1,2,5,6,7,4,]\n",
    "print(statistics.mode(x))"
   ]
  },
  {
   "cell_type": "code",
   "execution_count": null,
   "id": "95424e33",
   "metadata": {},
   "outputs": [],
   "source": []
  }
 ],
 "metadata": {
  "kernelspec": {
   "display_name": "Python 3 (ipykernel)",
   "language": "python",
   "name": "python3"
  },
  "language_info": {
   "codemirror_mode": {
    "name": "ipython",
    "version": 3
   },
   "file_extension": ".py",
   "mimetype": "text/x-python",
   "name": "python",
   "nbconvert_exporter": "python",
   "pygments_lexer": "ipython3",
   "version": "3.10.9"
  }
 },
 "nbformat": 4,
 "nbformat_minor": 5
}

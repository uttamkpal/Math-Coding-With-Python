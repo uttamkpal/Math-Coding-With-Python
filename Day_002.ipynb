{
 "cells": [
  {
   "cell_type": "code",
   "execution_count": 1,
   "id": "476216ed",
   "metadata": {},
   "outputs": [],
   "source": [
    "import numpy as np\n",
    "import matplotlib.pyplot as plt"
   ]
  },
  {
   "cell_type": "code",
   "execution_count": 2,
   "id": "3e2d7946",
   "metadata": {},
   "outputs": [
    {
     "name": "stdout",
     "output_type": "stream",
     "text": [
      "-45 45\n"
     ]
    }
   ],
   "source": [
    "a = -45\n",
    "b = abs(a)\n",
    "\n",
    "print(a,b)"
   ]
  },
  {
   "cell_type": "code",
   "execution_count": 3,
   "id": "19c30bde",
   "metadata": {},
   "outputs": [
    {
     "data": {
      "text/latex": [
       "$\\displaystyle |-545| = 545$"
      ],
      "text/plain": [
       "<IPython.core.display.Math object>"
      ]
     },
     "metadata": {},
     "output_type": "display_data"
    }
   ],
   "source": [
    "from IPython.display import display,Math\n",
    "\n",
    "x = -545\n",
    "display(Math('|%g| = %g' %(x, abs(x))))"
   ]
  },
  {
   "cell_type": "code",
   "execution_count": 4,
   "id": "3891dbcc",
   "metadata": {},
   "outputs": [
    {
     "name": "stdout",
     "output_type": "stream",
     "text": [
      "-4 was not tested\n",
      "Absolute value of 6 is 6\n",
      "-1 was not tested\n",
      "Absolute value of 43 is 43\n",
      "Absolute value of -18 is 18\n",
      "2 was not tested\n",
      "0 was not tested\n"
     ]
    }
   ],
   "source": [
    "#exercise\n",
    "\n",
    "number_list= [-4, 6, -1, 43, -18, 2, 0]\n",
    "\n",
    "for x in number_list:\n",
    "    if x <-5 or x >2:\n",
    "        print(f'Absolute value of {x} is {abs(x)}')\n",
    "    else:\n",
    "        print(f'{x} was not tested')"
   ]
  },
  {
   "cell_type": "code",
   "execution_count": 5,
   "id": "1d24c1c8",
   "metadata": {},
   "outputs": [],
   "source": [
    "def compute_remainder(x,y):\n",
    "    divis = int(x / y)\n",
    "    remainder = x % y\n",
    "    print(f'{y} goes into {x}, {divis} times with a remainder of {remainder}')"
   ]
  },
  {
   "cell_type": "code",
   "execution_count": 6,
   "id": "83f99279",
   "metadata": {},
   "outputs": [
    {
     "name": "stdout",
     "output_type": "stream",
     "text": [
      "3 goes into -4, -1 times with a remainder of 2\n",
      "5 goes into 6, 1 times with a remainder of 1\n",
      "7 goes into -1, 0 times with a remainder of 6\n",
      "3 goes into 43, 14 times with a remainder of 1\n",
      "4 goes into -18, -4 times with a remainder of 2\n",
      "9 goes into 2, 0 times with a remainder of 2\n",
      "2 goes into 0, 0 times with a remainder of 0\n"
     ]
    }
   ],
   "source": [
    "diviser_list = [3, 5,7,3,4,9,2]\n",
    "for x,y in zip(number_list, diviser_list):\n",
    "    compute_remainder(x,y)"
   ]
  },
  {
   "cell_type": "code",
   "execution_count": 7,
   "id": "ad7db486",
   "metadata": {},
   "outputs": [],
   "source": [
    "def division_with_input():\n",
    "    x = float(input(\"Inter the numerator :\"))\n",
    "    y = float(input(\"Inter the denominator :\"))\n",
    "    divis = int(x / y)\n",
    "    remainder = x % y\n",
    "    print(f'{y} goes into {x}, {divis} times with a remainder of {remainder}')"
   ]
  },
  {
   "cell_type": "code",
   "execution_count": 9,
   "id": "8d766b81",
   "metadata": {},
   "outputs": [
    {
     "name": "stdout",
     "output_type": "stream",
     "text": [
      "Inter the numerator :32\n",
      "Inter the denominator :12\n",
      "12.0 goes into 32.0, 2 times with a remainder of 8.0\n",
      "Inter the numerator :33.33333\n",
      "Inter the denominator :1.111121\n",
      "1.111121 goes into 33.33333, 29 times with a remainder of 1.1108209999999958\n"
     ]
    }
   ],
   "source": [
    "for i in range(0,2):\n",
    "    division_with_input()"
   ]
  },
  {
   "cell_type": "code",
   "execution_count": 10,
   "id": "5562c3b9",
   "metadata": {},
   "outputs": [
    {
     "data": {
      "text/plain": [
       "2"
      ]
     },
     "execution_count": 10,
     "metadata": {},
     "output_type": "execute_result"
    }
   ],
   "source": [
    "12//5"
   ]
  },
  {
   "cell_type": "code",
   "execution_count": 14,
   "id": "19085c0c",
   "metadata": {},
   "outputs": [
    {
     "name": "stdout",
     "output_type": "stream",
     "text": [
      "1 is an odd number\n",
      "14 is an even number\n",
      "27 is an odd number\n",
      "40 is an even number\n",
      "53 is an odd number\n",
      "66 is an even number\n",
      "79 is an odd number\n",
      "92 is an even number\n",
      "105 is an odd number\n",
      "118 is an even number\n",
      "131 is an odd number\n",
      "144 is an even number\n",
      "157 is an odd number\n",
      "170 is an even number\n",
      "183 is an odd number\n",
      "196 is an even number\n"
     ]
    }
   ],
   "source": [
    "number_list = range(1,200, 13)\n",
    "for x in number_list:\n",
    "    if x%2 == 0:\n",
    "        print(f\"{x} is an even number\")\n",
    "    else:\n",
    "        print(f\"{x} is an odd number\")"
   ]
  },
  {
   "cell_type": "code",
   "execution_count": 31,
   "id": "c85c9f6a",
   "metadata": {},
   "outputs": [],
   "source": [
    "# import handcalcs.render\n",
    "import math\n",
    "import sympy as sym"
   ]
  },
  {
   "cell_type": "code",
   "execution_count": 32,
   "id": "a0cd7e13",
   "metadata": {},
   "outputs": [],
   "source": [
    "x = sym.symbols('x')\n",
    "y = sym.symbols('y')"
   ]
  },
  {
   "cell_type": "code",
   "execution_count": 33,
   "id": "c581d1b0",
   "metadata": {},
   "outputs": [
    {
     "data": {
      "text/latex": [
       "$\\displaystyle x^{y}$"
      ],
      "text/plain": [
       "x**y"
      ]
     },
     "metadata": {},
     "output_type": "display_data"
    },
    {
     "data": {
      "text/latex": [
       "$\\displaystyle \\frac{x}{y}$"
      ],
      "text/plain": [
       "x/y"
      ]
     },
     "metadata": {},
     "output_type": "display_data"
    }
   ],
   "source": [
    "display(x**y)\n",
    "display(x/y)"
   ]
  },
  {
   "cell_type": "code",
   "execution_count": 35,
   "id": "9e56459e",
   "metadata": {},
   "outputs": [
    {
     "data": {
      "text/plain": [
       "1.4142135623730951"
      ]
     },
     "metadata": {},
     "output_type": "display_data"
    },
    {
     "data": {
      "text/latex": [
       "$\\displaystyle \\sqrt{2}$"
      ],
      "text/plain": [
       "sqrt(2)"
      ]
     },
     "metadata": {},
     "output_type": "display_data"
    }
   ],
   "source": [
    "display(math.sqrt(2))\n",
    "display(sym.sqrt(2))"
   ]
  },
  {
   "cell_type": "code",
   "execution_count": 40,
   "id": "2fcb72b2",
   "metadata": {},
   "outputs": [
    {
     "data": {
      "text/latex": [
       "$\\displaystyle x^{2} y$"
      ],
      "text/plain": [
       "x**2*y"
      ]
     },
     "metadata": {},
     "output_type": "display_data"
    },
    {
     "data": {
      "text/latex": [
       "$\\displaystyle 2 x$"
      ],
      "text/plain": [
       "2*x"
      ]
     },
     "metadata": {},
     "output_type": "display_data"
    },
    {
     "data": {
      "text/latex": [
       "$\\displaystyle x$"
      ],
      "text/plain": [
       "x"
      ]
     },
     "metadata": {},
     "output_type": "display_data"
    }
   ],
   "source": [
    "display(y* x**2)\n",
    "display(sym.sqrt(4) * x)\n",
    "display(sym.sqrt(x) * sym.sqrt(x))"
   ]
  },
  {
   "cell_type": "code",
   "execution_count": 44,
   "id": "75ca5b3a",
   "metadata": {},
   "outputs": [
    {
     "data": {
      "text/latex": [
       "$\\displaystyle \\sigma = \\mu \\times \\sqrt{5}$"
      ],
      "text/plain": [
       "<IPython.core.display.Math object>"
      ]
     },
     "metadata": {},
     "output_type": "display_data"
    },
    {
     "data": {
      "text/latex": [
       "$\\displaystyle \\sigma = \\mu \\times \\sqrt{5x + 3z + 14u}$"
      ],
      "text/plain": [
       "<IPython.core.display.Math object>"
      ]
     },
     "metadata": {},
     "output_type": "display_data"
    },
    {
     "data": {
      "text/latex": [
       "$\\displaystyle x_m + y^k$"
      ],
      "text/plain": [
       "<IPython.core.display.Math object>"
      ]
     },
     "metadata": {},
     "output_type": "display_data"
    },
    {
     "data": {
      "text/latex": [
       "$\\displaystyle x_{mm} + y^{n^m+2k-15}$"
      ],
      "text/plain": [
       "<IPython.core.display.Math object>"
      ]
     },
     "metadata": {},
     "output_type": "display_data"
    }
   ],
   "source": [
    "display(Math('\\\\sigma = \\\\mu \\\\times \\\\sqrt{5}'))\n",
    "display(Math('\\\\sigma = \\\\mu \\\\times \\\\sqrt{5x + 3z + 14u}'))\n",
    "\n",
    "display(Math('x_m + y^k'))\n",
    "display(Math('x_{mm} + y^{n^m+2k-15}'))"
   ]
  },
  {
   "cell_type": "code",
   "execution_count": 49,
   "id": "897858d2",
   "metadata": {},
   "outputs": [
    {
     "data": {
      "text/latex": [
       "$\\displaystyle \\sqrt(x) \\times \\sqrt(x)$"
      ],
      "text/plain": [
       "<IPython.core.display.Math object>"
      ]
     },
     "metadata": {},
     "output_type": "display_data"
    },
    {
     "data": {
      "text/latex": [
       "$\\displaystyle \\frac{x + 1}{2x + y^{3x + y}}$"
      ],
      "text/plain": [
       "<IPython.core.display.Math object>"
      ]
     },
     "metadata": {},
     "output_type": "display_data"
    },
    {
     "data": {
      "text/latex": [
       "$\\displaystyle \\text{Answer the equation} \\frac{x + 1}{2x + y^{3x + y}}$"
      ],
      "text/plain": [
       "<IPython.core.display.Math object>"
      ]
     },
     "metadata": {},
     "output_type": "display_data"
    }
   ],
   "source": [
    "display(Math('\\\\sqrt(x) \\\\times \\\\sqrt(x)'))\n",
    "display(Math('\\\\frac{x + 1}{2x + y^{3x + y}}'))\n",
    "display(Math('\\\\text{Answer the equation} \\\\frac{x + 1}{2x + y^{3x + y}}'))"
   ]
  },
  {
   "cell_type": "code",
   "execution_count": null,
   "id": "b753a467",
   "metadata": {},
   "outputs": [],
   "source": []
  }
 ],
 "metadata": {
  "kernelspec": {
   "display_name": "Python 3 (ipykernel)",
   "language": "python",
   "name": "python3"
  },
  "language_info": {
   "codemirror_mode": {
    "name": "ipython",
    "version": 3
   },
   "file_extension": ".py",
   "mimetype": "text/x-python",
   "name": "python",
   "nbconvert_exporter": "python",
   "pygments_lexer": "ipython3",
   "version": "3.10.9"
  }
 },
 "nbformat": 4,
 "nbformat_minor": 5
}
